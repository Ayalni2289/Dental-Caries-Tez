{
  "cells": [
    {
      "cell_type": "code",
      "execution_count": null,
      "metadata": {
        "colab": {
          "base_uri": "https://localhost:8080/",
          "height": 245
        },
        "id": "naN9Ko3br0x6",
        "outputId": "e40d785f-0e33-48c5-dd77-51f7ffe5d0cd"
      },
      "outputs": [
        {
          "output_type": "error",
          "ename": "FileNotFoundError",
          "evalue": "[Errno 2] No such file or directory: '/content/drive/MyDrive/Colab Notebooks/Dataset'",
          "traceback": [
            "\u001b[0;31m---------------------------------------------------------------------------\u001b[0m",
            "\u001b[0;31mFileNotFoundError\u001b[0m                         Traceback (most recent call last)",
            "\u001b[0;32m<ipython-input-2-5aeee9899ea5>\u001b[0m in \u001b[0;36m<cell line: 10>\u001b[0;34m()\u001b[0m\n\u001b[1;32m      8\u001b[0m \u001b[0;34m\u001b[0m\u001b[0m\n\u001b[1;32m      9\u001b[0m \u001b[0mdataPath\u001b[0m \u001b[0;34m=\u001b[0m \u001b[0;34m'/content/drive/MyDrive/Colab Notebooks/Dataset'\u001b[0m\u001b[0;34m\u001b[0m\u001b[0;34m\u001b[0m\u001b[0m\n\u001b[0;32m---> 10\u001b[0;31m \u001b[0mdataset_path\u001b[0m \u001b[0;34m=\u001b[0m \u001b[0mos\u001b[0m\u001b[0;34m.\u001b[0m\u001b[0mlistdir\u001b[0m\u001b[0;34m(\u001b[0m\u001b[0;34m'/content/drive/MyDrive/Colab Notebooks/Dataset'\u001b[0m\u001b[0;34m)\u001b[0m\u001b[0;34m\u001b[0m\u001b[0;34m\u001b[0m\u001b[0m\n\u001b[0m\u001b[1;32m     11\u001b[0m \u001b[0;34m\u001b[0m\u001b[0m\n\u001b[1;32m     12\u001b[0m \u001b[0mprint\u001b[0m \u001b[0;34m(\u001b[0m\u001b[0mdataset_path\u001b[0m\u001b[0;34m)\u001b[0m  \u001b[0;31m#what kinds of classes are in this dataset\u001b[0m\u001b[0;34m\u001b[0m\u001b[0;34m\u001b[0m\u001b[0m\n",
            "\u001b[0;31mFileNotFoundError\u001b[0m: [Errno 2] No such file or directory: '/content/drive/MyDrive/Colab Notebooks/Dataset'"
          ]
        }
      ],
      "source": [
        "import numpy as np\n",
        "import tensorflow as tf\n",
        "\n",
        "import numpy as np\n",
        "import pandas as pd\n",
        "import matplotlib.pyplot as plt\n",
        "import os\n",
        "\n",
        "dataPath = '/content/drive/MyDrive/Colab Notebooks/Dataset'\n",
        "dataset_path = os.listdir('/content/drive/MyDrive/Colab Notebooks/Dataset')\n",
        "\n",
        "print (dataset_path)  #what kinds of classes are in this dataset\n",
        "\n",
        "print(\"Types of classes labels found: \", len(dataset_path))"
      ]
    },
    {
      "cell_type": "code",
      "source": [
        "from google.colab import drive\n",
        "drive.mount('/content/drive')"
      ],
      "metadata": {
        "colab": {
          "base_uri": "https://localhost:8080/"
        },
        "id": "8MWYUr_yst_P",
        "outputId": "429f3e9d-1055-4b36-b673-11147b4304e8"
      },
      "execution_count": null,
      "outputs": [
        {
          "output_type": "stream",
          "name": "stdout",
          "text": [
            "Mounted at /content/drive\n"
          ]
        }
      ]
    },
    {
      "cell_type": "code",
      "source": [
        "from sklearn.metrics import classification_report, confusion_matrix\n",
        "import seaborn as sns\n",
        "import matplotlib.pyplot as plt\n",
        "\n",
        "# ... (previous code)\n",
        "\n",
        "from tensorflow.keras.applications import EfficientNetB7\n",
        "from tensorflow.keras.preprocessing.image import ImageDataGenerator\n",
        "from tensorflow.keras import layers, models\n",
        "from sklearn.metrics import classification_report\n",
        "\n",
        "# Veri yolu ve diğer parametreleri tanımlayın\n",
        "data_dir = \"/content/drive/MyDrive/Colab Notebooks/Dental Caries Classification.v1i.folder\"\n",
        "img_size = (224, 224)  # Resim boyutları\n",
        "batch_size = 16  # Batch boyutu\n",
        "\n",
        "# Veri artırma işlemi\n",
        "train_datagen = ImageDataGenerator(\n",
        "     rotation_range=20,\n",
        "    width_shift_range=0.2,\n",
        "    height_shift_range=0.2,\n",
        "    shear_range=0.2,\n",
        "    zoom_range=0.2,\n",
        "    horizontal_flip=True,\n",
        "    fill_mode='nearest'\n",
        ")\n",
        "\n",
        "valid_datagen = ImageDataGenerator(rescale=1./255)\n",
        "test_datagen = ImageDataGenerator(rescale=1./255)\n",
        "\n",
        "# Eğitim verisi yükleyici\n",
        "train_generator = train_datagen.flow_from_directory(\n",
        "    data_dir + \"/train\",\n",
        "    target_size=img_size,\n",
        "    batch_size=batch_size,\n",
        "    class_mode='categorical'\n",
        ")\n",
        "\n",
        "# Doğrulama verisi yükleyici\n",
        "valid_generator = valid_datagen.flow_from_directory(\n",
        "    data_dir + \"/valid\",\n",
        "    target_size=img_size,\n",
        "    batch_size=batch_size,\n",
        "    class_mode='categorical'\n",
        ")\n",
        "\n",
        "# Test verisi yükleyici\n",
        "test_generator = test_datagen.flow_from_directory(\n",
        "    data_dir + \"/test\",\n",
        "    target_size=img_size,\n",
        "    batch_size=batch_size,\n",
        "    class_mode='categorical'\n",
        ")\n",
        "\n",
        "# EfficientNetB7 modelini kullanarak önceden eğitilmiş bir model oluşturun\n",
        "base_model = EfficientNetB7(weights='imagenet', include_top=False, input_shape=(224, 224, 3))\n",
        "# Base modelin katmanlarını dondurma\n",
        "for layer in base_model.layers:\n",
        "    layer.trainable = False\n",
        "\n",
        "# Oluşturduğumuz EfficientNetB7 modelini kullanarak yeni bir model oluşturun\n",
        "model = models.Sequential()\n",
        "model.add(base_model)\n",
        "model.add(layers.GlobalAveragePooling2D())\n",
        "model.add(layers.Dense(128, activation='relu'))\n",
        "model.add(layers.Dropout(0.5))\n",
        "model.add(layers.Dense(3, activation='softmax'))  # 3 sınıf için çıkış katmanı\n",
        "\n",
        "# Modeli derleyin\n",
        "model.compile(optimizer='adam',\n",
        "              loss='categorical_crossentropy',\n",
        "              metrics=['accuracy'])\n",
        "\n",
        "# Modeli eğitin\n",
        "history = model.fit(train_generator, epochs=40, validation_data=valid_generator)\n",
        "\n",
        "# Test seti üzerinde modeli değerlendirin\n",
        "test_loss, test_acc = model.evaluate(test_generator)\n",
        "print(f\"\\nTest accuracy: {test_acc}\")\n",
        "\n",
        "# Validation seti üzerinde modeli değerlendirin\n",
        "valid_loss, valid_acc = model.evaluate(valid_generator)\n",
        "print(f\"Validation accuracy: {valid_acc}\")\n",
        "\n",
        "# Predictions on the test set\n",
        "test_predictions = model.predict(test_generator)\n",
        "\n",
        "# Convert predictions to class labels\n",
        "predicted_classes_test = [round(x) for x in test_predictions.argmax(axis=-1)]\n",
        "\n",
        "# Get true labels for the test set\n",
        "true_labels_test = test_generator.classes\n",
        "\n",
        "# Print classification report for the test set\n",
        "class_names = list(train_generator.class_indices.keys())\n",
        "report_test = classification_report(true_labels_test, predicted_classes_test, target_names=class_names)\n",
        "print(\"\\nTest Set Classification Report:\\n\", report_test)\n",
        "\n",
        "# Predictions on the validation set\n",
        "valid_predictions = model.predict(valid_generator)\n",
        "\n",
        "# Convert predictions to class labels for the validation set\n",
        "predicted_classes_valid = [round(x) for x in valid_predictions.argmax(axis=-1)]\n",
        "\n",
        "# Get true labels for the validation set\n",
        "true_labels_valid = valid_generator.classes\n",
        "\n",
        "# Print classification report for the validation set\n",
        "report_valid = classification_report(true_labels_valid, predicted_classes_valid, target_names=class_names)\n",
        "print(\"Validation Set Classification Report:\\n\", report_valid)\n",
        "\n",
        "# Predictions on the test set\n",
        "test_predictions = model.predict(test_generator)\n",
        "\n",
        "# Convert predictions to class labels\n",
        "predicted_classes_test = [round(x) for x in test_predictions.argmax(axis=-1)]\n",
        "\n",
        "# Get true labels for the test set\n",
        "true_labels_test = test_generator.classes\n",
        "\n",
        "# Calculate and print confusion matrix for the test set\n",
        "conf_matrix_test = confusion_matrix(true_labels_test, predicted_classes_test)\n",
        "print(\"\\nTest Set Confusion Matrix:\\n\", conf_matrix_test)\n",
        "\n",
        "# Plot confusion matrix for the test set\n",
        "plt.figure(figsize=(8, 6))\n",
        "sns.heatmap(conf_matrix_test, annot=True, fmt=\"d\", cmap=\"Blues\", xticklabels=class_names, yticklabels=class_names)\n",
        "plt.title(\"Test Set Confusion Matrix\")\n",
        "plt.xlabel(\"Predicted Labels\")\n",
        "plt.ylabel(\"True Labels\")\n",
        "plt.show()\n",
        "\n",
        "# Predictions on the validation set\n",
        "valid_predictions = model.predict(valid_generator)\n",
        "\n",
        "# Convert predictions to class labels for the validation set\n",
        "predicted_classes_valid = [round(x) for x in valid_predictions.argmax(axis=-1)]\n",
        "\n",
        "# Get true labels for the validation set\n",
        "true_labels_valid = valid_generator.classes\n",
        "\n",
        "# Calculate and print confusion matrix for the validation set\n",
        "conf_matrix_valid = confusion_matrix(true_labels_valid, predicted_classes_valid)\n",
        "print(\"\\nValidation Set Confusion Matrix:\\n\", conf_matrix_valid)\n",
        "\n",
        "# Plot confusion matrix for the validation set\n",
        "plt.figure(figsize=(8, 6))\n",
        "sns.heatmap(conf_matrix_valid, annot=True, fmt=\"d\", cmap=\"Blues\", xticklabels=class_names, yticklabels=class_names)\n",
        "plt.title(\"Validation Set Confusion Matrix\")\n",
        "plt.xlabel(\"Predicted Labels\")\n",
        "plt.ylabel(\"True Labels\")\n",
        "plt.show()\n"
      ],
      "metadata": {
        "colab": {
          "base_uri": "https://localhost:8080/",
          "height": 1000
        },
        "id": "B8R194E0sgJ0",
        "outputId": "fcea1c98-0454-482b-947f-10cfe8c63d83"
      },
      "execution_count": null,
      "outputs": [
        {
          "output_type": "stream",
          "name": "stdout",
          "text": [
            "Found 670 images belonging to 3 classes.\n",
            "Found 195 images belonging to 3 classes.\n",
            "Found 92 images belonging to 3 classes.\n",
            "Downloading data from https://storage.googleapis.com/keras-applications/efficientnetb7_notop.h5\n",
            "258076736/258076736 [==============================] - 1s 0us/step\n",
            "Epoch 1/40\n",
            "42/42 [==============================] - 244s 5s/step - loss: 0.6022 - accuracy: 0.7701 - val_loss: 0.8076 - val_accuracy: 0.7590\n",
            "Epoch 2/40\n",
            "42/42 [==============================] - 17s 408ms/step - loss: 0.4562 - accuracy: 0.8179 - val_loss: 0.7022 - val_accuracy: 0.7590\n",
            "Epoch 3/40\n",
            "42/42 [==============================] - 18s 429ms/step - loss: 0.4076 - accuracy: 0.8358 - val_loss: 0.6650 - val_accuracy: 0.7590\n",
            "Epoch 4/40\n",
            "42/42 [==============================] - 17s 406ms/step - loss: 0.3822 - accuracy: 0.8433 - val_loss: 0.7769 - val_accuracy: 0.7590\n",
            "Epoch 5/40\n",
            "42/42 [==============================] - 17s 396ms/step - loss: 0.3750 - accuracy: 0.8418 - val_loss: 0.7868 - val_accuracy: 0.7590\n",
            "Epoch 6/40\n",
            "42/42 [==============================] - 17s 403ms/step - loss: 0.3628 - accuracy: 0.8507 - val_loss: 0.9001 - val_accuracy: 0.2051\n",
            "Epoch 7/40\n",
            "42/42 [==============================] - 17s 403ms/step - loss: 0.3640 - accuracy: 0.8418 - val_loss: 1.1681 - val_accuracy: 0.2051\n",
            "Epoch 8/40\n",
            "42/42 [==============================] - 17s 409ms/step - loss: 0.3144 - accuracy: 0.8627 - val_loss: 0.7511 - val_accuracy: 0.7590\n",
            "Epoch 9/40\n",
            "42/42 [==============================] - 17s 412ms/step - loss: 0.3216 - accuracy: 0.8791 - val_loss: 0.7769 - val_accuracy: 0.7590\n",
            "Epoch 10/40\n",
            "42/42 [==============================] - 17s 394ms/step - loss: 0.3331 - accuracy: 0.8582 - val_loss: 0.7233 - val_accuracy: 0.7590\n",
            "Epoch 11/40\n",
            "42/42 [==============================] - 17s 403ms/step - loss: 0.2755 - accuracy: 0.8925 - val_loss: 0.7481 - val_accuracy: 0.7590\n",
            "Epoch 12/40\n",
            "42/42 [==============================] - 17s 403ms/step - loss: 0.3005 - accuracy: 0.8821 - val_loss: 0.7865 - val_accuracy: 0.7590\n",
            "Epoch 13/40\n",
            "42/42 [==============================] - 17s 405ms/step - loss: 0.2939 - accuracy: 0.8821 - val_loss: 0.8460 - val_accuracy: 0.7590\n",
            "Epoch 14/40\n",
            "42/42 [==============================] - 17s 399ms/step - loss: 0.2841 - accuracy: 0.8881 - val_loss: 0.8437 - val_accuracy: 0.7590\n",
            "Epoch 15/40\n",
            "42/42 [==============================] - 17s 411ms/step - loss: 0.2584 - accuracy: 0.8940 - val_loss: 0.8381 - val_accuracy: 0.7590\n",
            "Epoch 16/40\n",
            "42/42 [==============================] - 17s 401ms/step - loss: 0.2702 - accuracy: 0.8851 - val_loss: 0.7398 - val_accuracy: 0.7590\n",
            "Epoch 17/40\n",
            "42/42 [==============================] - 17s 406ms/step - loss: 0.2722 - accuracy: 0.9000 - val_loss: 0.7337 - val_accuracy: 0.7590\n",
            "Epoch 18/40\n",
            "42/42 [==============================] - 17s 406ms/step - loss: 0.2811 - accuracy: 0.8925 - val_loss: 0.8101 - val_accuracy: 0.7590\n",
            "Epoch 19/40\n",
            "42/42 [==============================] - 17s 406ms/step - loss: 0.2534 - accuracy: 0.8925 - val_loss: 0.8451 - val_accuracy: 0.7590\n",
            "Epoch 20/40\n",
            "42/42 [==============================] - 17s 399ms/step - loss: 0.2236 - accuracy: 0.9164 - val_loss: 0.8359 - val_accuracy: 0.7590\n",
            "Epoch 21/40\n",
            "42/42 [==============================] - 17s 397ms/step - loss: 0.2623 - accuracy: 0.8940 - val_loss: 0.7905 - val_accuracy: 0.7590\n",
            "Epoch 22/40\n",
            "42/42 [==============================] - 17s 403ms/step - loss: 0.2678 - accuracy: 0.8940 - val_loss: 0.7812 - val_accuracy: 0.7590\n",
            "Epoch 23/40\n",
            "42/42 [==============================] - 17s 400ms/step - loss: 0.2337 - accuracy: 0.9164 - val_loss: 0.7409 - val_accuracy: 0.7590\n",
            "Epoch 24/40\n",
            "42/42 [==============================] - 17s 404ms/step - loss: 0.2385 - accuracy: 0.9045 - val_loss: 1.0624 - val_accuracy: 0.2051\n",
            "Epoch 25/40\n",
            "42/42 [==============================] - 17s 409ms/step - loss: 0.2221 - accuracy: 0.9149 - val_loss: 0.8302 - val_accuracy: 0.7590\n",
            "Epoch 26/40\n",
            "42/42 [==============================] - 17s 403ms/step - loss: 0.2437 - accuracy: 0.9015 - val_loss: 0.8207 - val_accuracy: 0.7590\n",
            "Epoch 27/40\n",
            "42/42 [==============================] - 17s 406ms/step - loss: 0.2487 - accuracy: 0.9060 - val_loss: 0.7488 - val_accuracy: 0.7590\n",
            "Epoch 28/40\n",
            "42/42 [==============================] - 17s 391ms/step - loss: 0.2365 - accuracy: 0.9090 - val_loss: 0.9236 - val_accuracy: 0.2051\n",
            "Epoch 29/40\n",
            "42/42 [==============================] - 17s 397ms/step - loss: 0.2249 - accuracy: 0.9090 - val_loss: 0.8228 - val_accuracy: 0.7590\n",
            "Epoch 30/40\n",
            "42/42 [==============================] - 17s 405ms/step - loss: 0.2628 - accuracy: 0.9000 - val_loss: 0.8568 - val_accuracy: 0.7590\n",
            "Epoch 31/40\n",
            "42/42 [==============================] - 17s 399ms/step - loss: 0.2233 - accuracy: 0.9209 - val_loss: 0.8212 - val_accuracy: 0.7590\n",
            "Epoch 32/40\n",
            "42/42 [==============================] - 17s 405ms/step - loss: 0.2257 - accuracy: 0.9194 - val_loss: 0.8421 - val_accuracy: 0.7590\n",
            "Epoch 33/40\n",
            "42/42 [==============================] - 17s 402ms/step - loss: 0.1889 - accuracy: 0.9269 - val_loss: 0.7596 - val_accuracy: 0.7590\n",
            "Epoch 34/40\n",
            "42/42 [==============================] - 17s 401ms/step - loss: 0.2112 - accuracy: 0.9209 - val_loss: 0.8309 - val_accuracy: 0.7590\n",
            "Epoch 35/40\n",
            "42/42 [==============================] - 17s 404ms/step - loss: 0.1762 - accuracy: 0.9269 - val_loss: 1.3667 - val_accuracy: 0.2051\n",
            "Epoch 36/40\n",
            "42/42 [==============================] - 17s 407ms/step - loss: 0.1810 - accuracy: 0.9343 - val_loss: 1.1103 - val_accuracy: 0.2051\n",
            "Epoch 37/40\n",
            "42/42 [==============================] - 17s 403ms/step - loss: 0.2117 - accuracy: 0.9164 - val_loss: 1.4204 - val_accuracy: 0.2051\n",
            "Epoch 38/40\n",
            "42/42 [==============================] - 17s 398ms/step - loss: 0.2036 - accuracy: 0.9194 - val_loss: 1.1002 - val_accuracy: 0.2051\n",
            "Epoch 39/40\n",
            "42/42 [==============================] - 17s 406ms/step - loss: 0.1946 - accuracy: 0.9239 - val_loss: 1.2463 - val_accuracy: 0.2051\n",
            "Epoch 40/40\n",
            "42/42 [==============================] - 20s 463ms/step - loss: 0.2051 - accuracy: 0.9194 - val_loss: 0.9076 - val_accuracy: 0.7590\n",
            "6/6 [==============================] - 23s 5s/step - loss: 0.8697 - accuracy: 0.8152\n",
            "\n",
            "Test accuracy: 0.8152173757553101\n",
            "13/13 [==============================] - 3s 193ms/step - loss: 0.9076 - accuracy: 0.7590\n",
            "Validation accuracy: 0.7589743733406067\n",
            "6/6 [==============================] - 8s 183ms/step\n",
            "\n",
            "Test Set Classification Report:\n",
            "               precision    recall  f1-score   support\n",
            "\n",
            "      caries       0.82      0.99      0.90        76\n",
            " deep caries       0.00      0.00      0.00         3\n",
            "        null       0.00      0.00      0.00        13\n",
            "\n",
            "    accuracy                           0.82        92\n",
            "   macro avg       0.27      0.33      0.30        92\n",
            "weighted avg       0.68      0.82      0.74        92\n",
            "\n"
          ]
        },
        {
          "output_type": "stream",
          "name": "stderr",
          "text": [
            "/usr/local/lib/python3.10/dist-packages/sklearn/metrics/_classification.py:1344: UndefinedMetricWarning: Precision and F-score are ill-defined and being set to 0.0 in labels with no predicted samples. Use `zero_division` parameter to control this behavior.\n",
            "  _warn_prf(average, modifier, msg_start, len(result))\n",
            "/usr/local/lib/python3.10/dist-packages/sklearn/metrics/_classification.py:1344: UndefinedMetricWarning: Precision and F-score are ill-defined and being set to 0.0 in labels with no predicted samples. Use `zero_division` parameter to control this behavior.\n",
            "  _warn_prf(average, modifier, msg_start, len(result))\n",
            "/usr/local/lib/python3.10/dist-packages/sklearn/metrics/_classification.py:1344: UndefinedMetricWarning: Precision and F-score are ill-defined and being set to 0.0 in labels with no predicted samples. Use `zero_division` parameter to control this behavior.\n",
            "  _warn_prf(average, modifier, msg_start, len(result))\n"
          ]
        },
        {
          "output_type": "stream",
          "name": "stdout",
          "text": [
            "13/13 [==============================] - 2s 177ms/step\n",
            "Validation Set Classification Report:\n",
            "               precision    recall  f1-score   support\n",
            "\n",
            "      caries       0.76      1.00      0.86       148\n",
            " deep caries       0.00      0.00      0.00         7\n",
            "        null       0.00      0.00      0.00        40\n",
            "\n",
            "    accuracy                           0.76       195\n",
            "   macro avg       0.25      0.33      0.29       195\n",
            "weighted avg       0.58      0.76      0.65       195\n",
            "\n"
          ]
        },
        {
          "output_type": "stream",
          "name": "stderr",
          "text": [
            "/usr/local/lib/python3.10/dist-packages/sklearn/metrics/_classification.py:1344: UndefinedMetricWarning: Precision and F-score are ill-defined and being set to 0.0 in labels with no predicted samples. Use `zero_division` parameter to control this behavior.\n",
            "  _warn_prf(average, modifier, msg_start, len(result))\n",
            "/usr/local/lib/python3.10/dist-packages/sklearn/metrics/_classification.py:1344: UndefinedMetricWarning: Precision and F-score are ill-defined and being set to 0.0 in labels with no predicted samples. Use `zero_division` parameter to control this behavior.\n",
            "  _warn_prf(average, modifier, msg_start, len(result))\n",
            "/usr/local/lib/python3.10/dist-packages/sklearn/metrics/_classification.py:1344: UndefinedMetricWarning: Precision and F-score are ill-defined and being set to 0.0 in labels with no predicted samples. Use `zero_division` parameter to control this behavior.\n",
            "  _warn_prf(average, modifier, msg_start, len(result))\n"
          ]
        },
        {
          "output_type": "stream",
          "name": "stdout",
          "text": [
            "6/6 [==============================] - 1s 181ms/step\n",
            "\n",
            "Test Set Confusion Matrix:\n",
            " [[75  0  1]\n",
            " [ 3  0  0]\n",
            " [13  0  0]]\n"
          ]
        },
        {
          "output_type": "display_data",
          "data": {
            "text/plain": [
              "<Figure size 800x600 with 2 Axes>"
            ],
            "image/png": "[encoded data removed]"
          },
          "metadata": {}
        },
        {
          "output_type": "stream",
          "name": "stdout",
          "text": [
            "13/13 [==============================] - 2s 177ms/step\n",
            "\n",
            "Validation Set Confusion Matrix:\n",
            " [[148   0   0]\n",
            " [  7   0   0]\n",
            " [ 40   0   0]]\n"
          ]
        },
        {
          "output_type": "display_data",
          "data": {
            "text/plain": [
              "<Figure size 800x600 with 2 Axes>"
            ],
            "image/png": "[encoded data removed]"
          },
          "metadata": {}
        }
      ]
    },
    {
      "cell_type": "code",
      "execution_count": null,
      "metadata": {
        "id": "itBPz_mVVgZF"
      },
      "outputs": [],
      "source": [
        "Class_Indices = {'caries': 0, 'deep caries': 1, 'null': 2}"
      ]
    },
    {
      "cell_type": "code",
      "execution_count": null,
      "metadata": {
        "id": "8K_uTLCOQN-Q"
      },
      "outputs": [],
      "source": [
        "from tensorflow.keras.models import load_model\n",
        "\n",
        "model = load_model(\"/content/drive/MyDrive/Colab Notebooks/BestModel.h5\")"
      ]
    },
    {
      "cell_type": "code",
      "source": [
        "from tensorflow.keras.models import load_model\n",
        "from sklearn.metrics import classification_report\n",
        "from tensorflow.keras.preprocessing.image import ImageDataGenerator\n",
        "\n",
        "data_dir = \"/content/drive/MyDrive/Colab Notebooks/Dental Caries Classification.v1i.folder\"\n",
        "img_size = (224, 224)  # Resim boyutları\n",
        "test_datagen = ImageDataGenerator(rescale=1./255)\n",
        "# Test verisi yükleyici\n",
        "test_generator = test_datagen.flow_from_directory(\n",
        "    data_dir + \"/test\",\n",
        "    target_size=img_size,\n",
        "    batch_size=16,\n",
        "    class_mode='categorical'\n",
        ")\n",
        "\n",
        "\n",
        "# Load the trained model\n",
        "loaded_model = load_model(\"/content/drive/MyDrive/Colab Notebooks/BestModel.h5\")  # Replace with the actual path to your saved model\n",
        "\n",
        "# Test set predictions\n",
        "test_predictions = loaded_model.predict(test_generator)\n",
        "\n",
        "# Convert predictions to class labels\n",
        "predicted_classes = [round(x) for x in test_predictions.argmax(axis=-1)]\n",
        "\n",
        "# Get true labels\n",
        "true_labels = test_generator.classes\n",
        "\n",
        "# Get class names\n",
        "class_names = list(Class_Indices.keys())\n",
        "\n",
        "# Print classification report\n",
        "report = classification_report(true_labels, predicted_classes, target_names=class_names)\n",
        "print(\"Classification Report:\\n\", report)\n",
        "\n",
        "# Evaluate model on the test set\n",
        "test_loss, test_accuracy = loaded_model.evaluate(test_generator)\n",
        "print(f\"Test Loss: {test_loss:.4f}\")\n",
        "print(f\"Test Accuracy: {test_accuracy:.4f}\")\n"
      ],
      "metadata": {
        "colab": {
          "base_uri": "https://localhost:8080/"
        },
        "id": "flmIbgbaO81W",
        "outputId": "3e4d4c64-0a0a-4efb-bd78-04441a964b85"
      },
      "execution_count": null,
      "outputs": [
        {
          "output_type": "stream",
          "name": "stdout",
          "text": [
            "Found 92 images belonging to 3 classes.\n",
            "6/6 [==============================] - 6s 180ms/step\n",
            "Classification Report:\n",
            "               precision    recall  f1-score   support\n",
            "\n",
            "      caries       0.00      0.00      0.00        76\n",
            " deep caries       0.00      0.00      0.00         3\n",
            "        null       0.14      1.00      0.25        13\n",
            "\n",
            "    accuracy                           0.14        92\n",
            "   macro avg       0.05      0.33      0.08        92\n",
            "weighted avg       0.02      0.14      0.03        92\n",
            "\n"
          ]
        },
        {
          "output_type": "stream",
          "name": "stderr",
          "text": [
            "/usr/local/lib/python3.10/dist-packages/sklearn/metrics/_classification.py:1344: UndefinedMetricWarning: Precision and F-score are ill-defined and being set to 0.0 in labels with no predicted samples. Use `zero_division` parameter to control this behavior.\n",
            "  _warn_prf(average, modifier, msg_start, len(result))\n",
            "/usr/local/lib/python3.10/dist-packages/sklearn/metrics/_classification.py:1344: UndefinedMetricWarning: Precision and F-score are ill-defined and being set to 0.0 in labels with no predicted samples. Use `zero_division` parameter to control this behavior.\n",
            "  _warn_prf(average, modifier, msg_start, len(result))\n",
            "/usr/local/lib/python3.10/dist-packages/sklearn/metrics/_classification.py:1344: UndefinedMetricWarning: Precision and F-score are ill-defined and being set to 0.0 in labels with no predicted samples. Use `zero_division` parameter to control this behavior.\n",
            "  _warn_prf(average, modifier, msg_start, len(result))\n"
          ]
        },
        {
          "output_type": "stream",
          "name": "stdout",
          "text": [
            "6/6 [==============================] - 7s 191ms/step - loss: 1.6084 - accuracy: 0.1413\n",
            "Test Loss: 1.6084\n",
            "Test Accuracy: 0.1413\n"
          ]
        }
      ]
    },
    {
      "cell_type": "code",
      "execution_count": null,
      "metadata": {
        "colab": {
          "base_uri": "https://localhost:8080/"
        },
        "id": "6ujoAUJNBpcc",
        "outputId": "ae74a492-3030-4881-c971-c157a440ca2a"
      },
      "outputs": [
        {
          "name": "stdout",
          "output_type": "stream",
          "text": [
            "1/1 [==============================] - 0s 60ms/step\n",
            "Tahmin: caries\n",
            "Güven: 0.6158679723739624\n"
          ]
        }
      ],
      "source": [
        "import numpy as np\n",
        "from tensorflow.keras.preprocessing import image\n",
        "\n",
        "# Test etmek istediğiniz görüntünün yolu\n",
        "test_image_path = \"/content/drive/MyDrive/Colab Notebooks/Dataset/caries/45_jpg.rf.3c053fdeb48dbf35c431de9e21076e2f.jpg\"\n",
        "\n",
        "# Görüntüyü yükleyin ve boyutlandırın\n",
        "img = image.load_img(test_image_path, target_size=(224, 224))\n",
        "\n",
        "# Görüntüyü diziye çevirin\n",
        "img_array = image.img_to_array(img)\n",
        "\n",
        "# Resmi genişletin (batch boyutu için)\n",
        "img_array = np.expand_dims(img_array, axis=0)\n",
        "\n",
        "# Görüntüyü modelle tahmin et\n",
        "predictions = model.predict(img_array)\n",
        "\n",
        "# En yüksek olasılığa sahip sınıfın indeksini bulun\n",
        "predicted_class_index = np.argmax(predictions[0])\n",
        "\n",
        "# Sınıf indeksini sınıf etiketlerinden çıkarın\n",
        "class_labels = Class_Indices\n",
        "predicted_class_label = [k for k, v in class_labels.items() if v == predicted_class_index][0]\n",
        "\n",
        "# Tahmin edilen sınıfa ait olasılığı bulun\n",
        "confidence = predictions[0][predicted_class_index]\n",
        "\n",
        "# Tahmin sonucunu ve güveni yazdırın\n",
        "print(f\"Tahmin: {predicted_class_label}\")\n",
        "print(f\"Güven: {confidence}\")\n"
      ]
    },
    {
      "cell_type": "code",
      "execution_count": null,
      "metadata": {
        "colab": {
          "base_uri": "https://localhost:8080/"
        },
        "id": "7JS3cBn2Ra9K",
        "outputId": "efe57c8f-32b0-4ee7-fb05-f5dff7559680"
      },
      "outputs": [
        {
          "name": "stderr",
          "output_type": "stream",
          "text": [
            "/usr/local/lib/python3.10/dist-packages/keras/src/engine/training.py:3103: UserWarning: You are saving your model as an HDF5 file via `model.save()`. This file format is considered legacy. We recommend using instead the native Keras format, e.g. `model.save('my_model.keras')`.\n",
            "  saving_api.save_model(\n"
          ]
        }
      ],
      "source": [
        "model.save('BestModelEpoch40V2.h5', save_format='h5')"
      ]
    },
    {
      "cell_type": "code",
      "execution_count": null,
      "metadata": {
        "colab": {
          "base_uri": "https://localhost:8080/"
        },
        "id": "6AbgNc4j96kG",
        "outputId": "940e377f-e689-4d9b-f4dc-6fd841791572"
      },
      "outputs": [
        {
          "name": "stderr",
          "output_type": "stream",
          "text": [
            "/usr/local/lib/python3.10/dist-packages/keras/src/engine/training.py:3103: UserWarning: You are saving your model as an HDF5 file via `model.save()`. This file format is considered legacy. We recommend using instead the native Keras format, e.g. `model.save('my_model.keras')`.\n",
            "  saving_api.save_model(\n"
          ]
        }
      ],
      "source": [
        "model.save(\"BestModelEpoch40.h5\")"
      ]
    },
    {
      "cell_type": "code",
      "execution_count": null,
      "metadata": {
        "colab": {
          "base_uri": "https://localhost:8080/"
        },
        "id": "_IIgnhTIDb-W",
        "outputId": "884f3bcd-955c-4356-dbbb-da1c67a1eb49"
      },
      "outputs": [
        {
          "output_type": "stream",
          "name": "stdout",
          "text": [
            " * Serving Flask app '__main__'\n",
            " * Debug mode: on\n"
          ]
        },
        {
          "output_type": "stream",
          "name": "stderr",
          "text": [
            "INFO:werkzeug:\u001b[31m\u001b[1mWARNING: This is a development server. Do not use it in a production deployment. Use a production WSGI server instead.\u001b[0m\n",
            " * Running on http://127.0.0.1:5000\n",
            "INFO:werkzeug:\u001b[33mPress CTRL+C to quit\u001b[0m\n",
            "INFO:werkzeug: * Restarting with stat\n"
          ]
        }
      ],
      "source": [
        "from flask import Flask, request, jsonify\n",
        "from tensorflow.keras.models import load_model\n",
        "from tensorflow.keras.preprocessing import image\n",
        "import numpy as np\n",
        "\n",
        "app = Flask(__name__)\n",
        "\n",
        "# Eğittiğiniz modelinizi yükleyin\n",
        "model = load_model('/content/drive/MyDrive/Colab Notebooks/BestModelEpoch40.h5')\n",
        "\n",
        "@app.route('/')\n",
        "def predict():\n",
        "    try:\n",
        "        # Gelen JSON verisini alın\n",
        "        data = request.get_json()\n",
        "\n",
        "        # Gelen veriyi modele uygun formata getirin (örneğin, boyutlandırma ve normalizasyon)\n",
        "        img_path = data['/content/drive/MyDrive/Colab Notebooks/Dataset/deep caries/-11-_jpg.rf.764aa78ea455fc820f5557339d3571b0.jpg']\n",
        "        img = image.load_img(img_path, target_size=(224, 224))\n",
        "        img_array = image.img_to_array(img)\n",
        "        img_array = np.expand_dims(img_array, axis=0)\n",
        "        img_array /= 255.0  # Örnek olarak normalizasyon\n",
        "\n",
        "        # Tahmin yapın\n",
        "        predictions = model.predict(img_array)\n",
        "\n",
        "        # Tahmin sonuçlarını JSON formatında döndürün\n",
        "        return jsonify({'predictions': predictions.tolist()})\n",
        "\n",
        "    except Exception as e:\n",
        "        return jsonify({'error': str(e)})\n",
        "\n",
        "if __name__ == '__main__':\n",
        "    # Uygulamayı çalıştırın\n",
        "    app.run(debug=True)\n"
      ]
    },
    {
      "cell_type": "code",
      "source": [
        "from flask import Flask, request, jsonify\n",
        "from tensorflow.keras.models import load_model\n",
        "from tensorflow.keras.preprocessing import image\n",
        "import numpy as np\n",
        "\n",
        "app = Flask(__name__)\n",
        "\n",
        "@app.route('/')\n",
        "def home():\n",
        "  return \"Home\"\n",
        "\n",
        "if __name__ == '__main__':\n",
        "    # Uygulamayı çalıştırın\n",
        "    app.run(debug=True)\n",
        "\n"
      ],
      "metadata": {
        "colab": {
          "base_uri": "https://localhost:8080/"
        },
        "id": "Hx09kywnoucy",
        "outputId": "0c6341c9-6e31-485d-836c-1704da6334d5"
      },
      "execution_count": null,
      "outputs": [
        {
          "output_type": "stream",
          "name": "stdout",
          "text": [
            " * Serving Flask app '__main__'\n",
            " * Debug mode: on\n"
          ]
        },
        {
          "output_type": "stream",
          "name": "stderr",
          "text": [
            "INFO:werkzeug:\u001b[31m\u001b[1mWARNING: This is a development server. Do not use it in a production deployment. Use a production WSGI server instead.\u001b[0m\n",
            " * Running on http://127.0.0.1:5000\n",
            "INFO:werkzeug:\u001b[33mPress CTRL+C to quit\u001b[0m\n",
            "INFO:werkzeug: * Restarting with stat\n"
          ]
        }
      ]
    }
  ],
  "metadata": {
    "colab": {
      "provenance": [],
      "gpuType": "T4"
    },
    "kernelspec": {
      "display_name": "Python 3",
      "name": "python3"
    },
    "language_info": {
      "name": "python"
    },
    "accelerator": "GPU"
  },
  "nbformat": 4,
  "nbformat_minor": 0
}